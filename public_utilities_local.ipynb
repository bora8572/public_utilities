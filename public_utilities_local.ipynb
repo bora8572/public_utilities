{
 "cells": [
  {
   "cell_type": "code",
   "execution_count": null,
   "id": "b5e5948e",
   "metadata": {},
   "outputs": [],
   "source": [
    "import camelot\n",
    "import pandas as pd\n",
    "import os\n",
    "\n",
    "# show full cells text\n",
    "pd.set_option('display.max_colwidth', None)\n",
    "\n",
    "PATH = './bills/'\n",
    "month = {'Январь': 1, 'Февраль': 2, 'Март': 3, 'Апрель': 4, 'Май': 5, 'Июнь': 6, \\\n",
    "         'Июль': 7, 'Август': 8, 'Сентябрь': 9, 'Октябрь': 10, 'Ноябрь': 11, 'Декабрь': 12}\n",
    "\n",
    "\n",
    "with open('checked_files.txt', 'r+') as checked_files:\n",
    "    files = checked_files.readlines()\n",
    "    for file in os.listdir(PATH):\n",
    "        if '.pdf' in file and file+'\\n' not in files:\n",
    "            \n",
    "            # scan pdf to tables\n",
    "            tables = camelot.read_pdf(PATH+file, strip_text='\\n')\n",
    "\n",
    "            # main data\n",
    "            df2 = tables[2].df\n",
    "\n",
    "            # calculate slices\n",
    "            range1_start = df2.index[df2[0].str.contains(\"Тех.обсл\")][0]\n",
    "            range1_stop = df2.index[df2[0].str.contains(\"Домофон\")][0]\n",
    "            range2_start = df2.index[df2[0].str.contains(\"Холодное\")][0]\n",
    "            range2_stop = df2.index[df2[0].str.contains(\"Итого к оплате за расчетный период\")][0]\n",
    "\n",
    "            # create df_month\n",
    "            df_month = pd.concat([df2.iloc[range1_start:range1_stop+1], df2.iloc[range2_start:range2_stop]])\n",
    "            df_month.columns = df2.iloc[0]\n",
    "\n",
    "            # rename some values\n",
    "            df_month.iloc[:,2:15] = df_month.iloc[:,2:15].replace('Х', 0)\n",
    "            df_month.iloc[:,1:2] = df_month.iloc[:,1:2].replace(['Х', 'кВт'], ['кВт*ч', 'кВт*ч'])\n",
    "            df_month.iloc[:,:1] = df_month.iloc[:,:1].replace(['Электроэнергия:', '- дн. начисление', \\\n",
    "                '- нч. начисление'], ['Электроэнергия', 'Электроэнергия день', 'Электроэнергия ночь'])\n",
    "\n",
    "            # calculate period\n",
    "            for index, table in enumerate(tables):\n",
    "                if table.df.shape == (5, 2):\n",
    "                    period = table.df[0][0]\n",
    "                    period = period[period.find(')')+1:period.find(' г')].split()\n",
    "                    period = period[-2:]\n",
    "                    period[0] = month[period[0]]\n",
    "                    df_month[['Месяц', 'Год']] = period\n",
    "            \n",
    "            df_month.to_csv('bills.csv', mode='a', index=False, header=False, sep=';', encoding='windows-1251')\n",
    "            checked_files.write(file+'\\n')\n",
    "            print(file+' преобразован')"
   ]
  }
 ],
 "metadata": {
  "kernelspec": {
   "display_name": "Python 3 (ipykernel)",
   "language": "python",
   "name": "python3"
  },
  "language_info": {
   "codemirror_mode": {
    "name": "ipython",
    "version": 3
   },
   "file_extension": ".py",
   "mimetype": "text/x-python",
   "name": "python",
   "nbconvert_exporter": "python",
   "pygments_lexer": "ipython3",
   "version": "3.10.9"
  }
 },
 "nbformat": 4,
 "nbformat_minor": 5
}
